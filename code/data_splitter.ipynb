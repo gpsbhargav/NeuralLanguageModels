{
 "cells": [
  {
   "cell_type": "code",
   "execution_count": 1,
   "metadata": {},
   "outputs": [],
   "source": [
    "from nltk.corpus import gutenberg\n",
    "import nltk\n",
    "import numpy as np\n",
    "from random import shuffle\n",
    "import tqdm"
   ]
  },
  {
   "cell_type": "markdown",
   "metadata": {},
   "source": [
    "nltk.download('gutenberg')"
   ]
  },
  {
   "cell_type": "code",
   "execution_count": 2,
   "metadata": {},
   "outputs": [],
   "source": [
    "sentences = []"
   ]
  },
  {
   "cell_type": "code",
   "execution_count": 3,
   "metadata": {},
   "outputs": [],
   "source": [
    "for sent in gutenberg.sents():\n",
    "    sentences.append(sent)"
   ]
  },
  {
   "cell_type": "code",
   "execution_count": 43,
   "metadata": {},
   "outputs": [
    {
     "data": {
      "text/plain": [
       "['She',\n",
       " 'was',\n",
       " 'the',\n",
       " 'youngest',\n",
       " 'of',\n",
       " 'the',\n",
       " 'two',\n",
       " 'daughters',\n",
       " 'of',\n",
       " 'a',\n",
       " 'most',\n",
       " 'affectionate',\n",
       " ',',\n",
       " 'indulgent',\n",
       " 'father',\n",
       " ';',\n",
       " 'and',\n",
       " 'had',\n",
       " ',',\n",
       " 'in',\n",
       " 'consequence',\n",
       " 'of',\n",
       " 'her',\n",
       " 'sister',\n",
       " \"'\",\n",
       " 's',\n",
       " 'marriage',\n",
       " ',',\n",
       " 'been',\n",
       " 'mistress',\n",
       " 'of',\n",
       " 'his',\n",
       " 'house',\n",
       " 'from',\n",
       " 'a',\n",
       " 'very',\n",
       " 'early',\n",
       " 'period',\n",
       " '.']"
      ]
     },
     "execution_count": 43,
     "metadata": {},
     "output_type": "execute_result"
    }
   ],
   "source": [
    "sentences[4]"
   ]
  },
  {
   "cell_type": "code",
   "execution_count": 5,
   "metadata": {},
   "outputs": [],
   "source": [
    "#shuffle(sentences)"
   ]
  },
  {
   "cell_type": "code",
   "execution_count": 6,
   "metadata": {},
   "outputs": [
    {
     "data": {
      "text/plain": [
       "98552"
      ]
     },
     "execution_count": 6,
     "metadata": {},
     "output_type": "execute_result"
    }
   ],
   "source": [
    "len(sentences)"
   ]
  },
  {
   "cell_type": "code",
   "execution_count": 49,
   "metadata": {},
   "outputs": [],
   "source": [
    "#form chunks of 50 sentences\n",
    "chunk_size=30\n",
    "chunks =[]\n",
    "for i in range(0,len(sentences)-chunk_size,chunk_size):\n",
    "    if(len(sentences[i:]) >= chunk_size):\n",
    "        c = sentences[i:i+chunk_size]\n",
    "    else:\n",
    "        c = sentences[i:]\n",
    "    chunks.append(c)\n",
    "    "
   ]
  },
  {
   "cell_type": "code",
   "execution_count": 50,
   "metadata": {},
   "outputs": [],
   "source": [
    "def list_of_list_to_sent(list):\n",
    "    sent = \"\"\n",
    "    for i in list:\n",
    "        sent += \" \".join(i) + \" \"\n",
    "    return sent"
   ]
  },
  {
   "cell_type": "code",
   "execution_count": 51,
   "metadata": {},
   "outputs": [],
   "source": [
    "chunk_sents = []\n",
    "for i in chunks:\n",
    "    chunk_sents.append(list_of_list_to_sent(i))"
   ]
  },
  {
   "cell_type": "code",
   "execution_count": 52,
   "metadata": {},
   "outputs": [
    {
     "data": {
      "text/plain": [
       "\"[ Emma by Jane Austen 1816 ] VOLUME I CHAPTER I Emma Woodhouse , handsome , clever , and rich , with a comfortable home and happy disposition , seemed to unite some of the best blessings of existence ; and had lived nearly twenty - one years in the world with very little to distress or vex her . She was the youngest of the two daughters of a most affectionate , indulgent father ; and had , in consequence of her sister ' s marriage , been mistress of his house from a very early period . Her mother had died too long ago for her to have more than an indistinct remembrance of her caresses ; and her place had been supplied by an excellent woman as governess , who had fallen little short of a mother in affection . Sixteen years had Miss Taylor been in Mr . Woodhouse ' s family , less as a governess than a friend , very fond of both daughters , but particularly of Emma . Between _them_ it was more the intimacy of sisters . Even before Miss Taylor had ceased to hold the nominal office of governess , the mildness of her temper had hardly allowed her to impose any restraint ; and the shadow of authority being now long passed away , they had been living together as friend and friend very mutually attached , and Emma doing just what she liked ; highly esteeming Miss Taylor ' s judgment , but directed chiefly by her own . The real evils , indeed , of Emma ' s situation were the power of having rather too much her own way , and a disposition to think a little too well of herself ; these were the disadvantages which threatened alloy to her many enjoyments . The danger , however , was at present so unperceived , that they did not by any means rank as misfortunes with her . Sorrow came -- a gentle sorrow -- but not at all in the shape of any disagreeable consciousness .-- Miss Taylor married . It was Miss Taylor ' s loss which first brought grief . It was on the wedding - day of this beloved friend that Emma first sat in mournful thought of any continuance . The wedding over , and the bride - people gone , her father and herself were left to dine together , with no prospect of a third to cheer a long evening . Her father composed himself to sleep after dinner , as usual , and she had then only to sit and think of what she had lost . The event had every promise of happiness for her friend . Mr . Weston was a man of unexceptionable character , easy fortune , suitable age , and pleasant manners ; and there was some satisfaction in considering with what self - denying , generous friendship she had always wished and promoted the match ; but it was a black morning ' s work for her . The want of Miss Taylor would be felt every hour of every day . She recalled her past kindness -- the kindness , the affection of sixteen years -- how she had taught and how she had played with her from five years old -- how she had devoted all her powers to attach and amuse her in health -- and how nursed her through the various illnesses of childhood . A large debt of gratitude was owing here ; but the intercourse of the last seven years , the equal footing and perfect unreserve which had soon followed Isabella ' s marriage , on their being left to each other , was yet a dearer , tenderer recollection . She had been a friend and companion such as few possessed : intelligent , well - informed , useful , gentle , knowing all the ways of the family , interested in all its concerns , and peculiarly interested in herself , in every pleasure , every scheme of hers -- one to whom she could speak every thought as it arose , and who had such an affection for her as could never find fault . How was she to bear the change ?-- It was true that her friend was going only half a mile from them ; but Emma was aware that great must be the difference between a Mrs . Weston , only half a mile from them , and a Miss Taylor in the house ; and with all her advantages , natural and domestic , she was now in great danger of suffering from intellectual solitude . She dearly loved her father , but he was no companion for her . He could not meet her in conversation , rational or playful . The evil of the actual disparity in their ages ( and Mr . Woodhouse had not married early ) was much increased by his constitution and habits ; for having been a valetudinarian all his life , without activity of mind or body , he was a much older man in ways than in years ; and though everywhere beloved for the friendliness of his heart and his amiable temper , his talents could not have recommended him at any time . Her sister , though comparatively but little removed by matrimony , being settled in London , only sixteen miles off , was much beyond her daily reach ; and many a long October and November evening must be struggled through at Hartfield , before Christmas brought the next visit from Isabella and her husband , and their little children , to fill the house , and give her pleasant society again . Highbury , the large and populous village , almost amounting to a town , to which Hartfield , in spite of its separate lawn , and shrubberies , and name , did really belong , afforded her no equals . The Woodhouses were first in consequence there . All looked up to them . \""
      ]
     },
     "execution_count": 52,
     "metadata": {},
     "output_type": "execute_result"
    }
   ],
   "source": [
    "chunk_sents[0]"
   ]
  },
  {
   "cell_type": "code",
   "execution_count": 53,
   "metadata": {},
   "outputs": [],
   "source": [
    "shuffle(chunk_sents)"
   ]
  },
  {
   "cell_type": "code",
   "execution_count": 54,
   "metadata": {},
   "outputs": [
    {
     "data": {
      "text/plain": [
       "\"This Diamond he greetes your Wife withall , By the name of most kind Hostesse , And shut vp in measurelesse content Mac . Being vnprepar ' d , Our will became the seruant to defect , Which else should free haue wrought Banq . All ' s well . I dreamt last Night of the three weyward Sisters : To you they haue shew ' d some truth Macb . I thinke not of them : Yet when we can entreat an houre to serue , We would spend it in some words vpon that Businesse , If you would graunt the time Banq . At your kind ' st leysure Macb . If you shall cleaue to my consent , When ' tis , it shall make Honor for you Banq . So I lose none , In seeking to augment it , but still keepe My Bosome franchis ' d , and Allegeance cleare , I shall be counsail ' d Macb . Good repose the while Banq . Thankes Sir : the like to you . Exit Banquo . Macb . Goe bid thy Mistresse , when my drinke is ready , She strike vpon the Bell . Get thee to bed . Enter . Is this a Dagger , which I see before me , The Handle toward my Hand ? Come , let me clutch thee : I haue thee not , and yet I see thee still . Art thou not fatall Vision , sensible To feeling , as to sight ? or art thou but A Dagger of the Minde , a false Creation , Proceeding from the heat - oppressed Braine ? I see thee yet , in forme as palpable , As this which now I draw . Thou marshall ' st me the way that I was going , And such an Instrument I was to vse . Mine Eyes are made the fooles o ' th ' other Sences , Or else worth all the rest : I see thee still ; And on thy Blade , and Dudgeon , Gouts of Blood , Which was not so before . \""
      ]
     },
     "execution_count": 54,
     "metadata": {},
     "output_type": "execute_result"
    }
   ],
   "source": [
    "chunk_sents[0]"
   ]
  },
  {
   "cell_type": "markdown",
   "metadata": {},
   "source": [
    "shuffled_text = \"\"\n",
    "for j,i in enumerate(chunk_sents):\n",
    "    if(j%100 == 0):\n",
    "        print(\"upto sentence {}/{}\".format(j,len(sentences)))\n",
    "    shuffled_text += \" \".join(i) + \" \""
   ]
  },
  {
   "cell_type": "code",
   "execution_count": 57,
   "metadata": {},
   "outputs": [
    {
     "name": "stdout",
     "output_type": "stream",
     "text": [
      "upto chunk 0/3285\n",
      "upto chunk 100/3285\n",
      "upto chunk 200/3285\n",
      "upto chunk 300/3285\n",
      "upto chunk 400/3285\n",
      "upto chunk 500/3285\n",
      "upto chunk 600/3285\n",
      "upto chunk 700/3285\n",
      "upto chunk 800/3285\n",
      "upto chunk 900/3285\n",
      "upto chunk 1000/3285\n",
      "upto chunk 1100/3285\n",
      "upto chunk 1200/3285\n",
      "upto chunk 1300/3285\n",
      "upto chunk 1400/3285\n",
      "upto chunk 1500/3285\n",
      "upto chunk 1600/3285\n",
      "upto chunk 1700/3285\n",
      "upto chunk 1800/3285\n",
      "upto chunk 1900/3285\n",
      "upto chunk 2000/3285\n",
      "upto chunk 2100/3285\n",
      "upto chunk 2200/3285\n",
      "upto chunk 2300/3285\n",
      "upto chunk 2400/3285\n",
      "upto chunk 2500/3285\n",
      "upto chunk 2600/3285\n",
      "upto chunk 2700/3285\n",
      "upto chunk 2800/3285\n",
      "upto chunk 2900/3285\n",
      "upto chunk 3000/3285\n",
      "upto chunk 3100/3285\n",
      "upto chunk 3200/3285\n"
     ]
    }
   ],
   "source": [
    "shuffled_text = \"\"\n",
    "for j,i in enumerate(chunk_sents):\n",
    "    if(j%100 == 0):\n",
    "        print(\"upto chunk {}/{}\".format(j,len(chunk_sents)))\n",
    "    shuffled_text += \" \" + i"
   ]
  },
  {
   "cell_type": "code",
   "execution_count": 65,
   "metadata": {},
   "outputs": [
    {
     "data": {
      "text/plain": [
       "' thou didst call me .  You left nothing undone . I was glad you made her play so much , for having n'"
      ]
     },
     "execution_count": 65,
     "metadata": {},
     "output_type": "execute_result"
    }
   ],
   "source": [
    "shuffled_text[9000:9100]"
   ]
  },
  {
   "cell_type": "code",
   "execution_count": 61,
   "metadata": {},
   "outputs": [
    {
     "data": {
      "text/plain": [
       "2621757"
      ]
     },
     "execution_count": 61,
     "metadata": {},
     "output_type": "execute_result"
    }
   ],
   "source": [
    "len(shuffled_text.split())"
   ]
  },
  {
   "cell_type": "code",
   "execution_count": 66,
   "metadata": {},
   "outputs": [],
   "source": [
    "with open('chunk_shuffled_all.txt','w',encoding='utf8') as f:\n",
    "    f.write(shuffled_text)"
   ]
  },
  {
   "cell_type": "code",
   "execution_count": 70,
   "metadata": {},
   "outputs": [
    {
     "name": "stdout",
     "output_type": "stream",
     "text": [
      "all_raw.txt\t  austen_raw.txt\t  gutenberg_all_bak\r\n",
      "all_raw_utf8.txt  chesterton_proc.txt\t  gutenberg_all_proc_bak\r\n",
      "all.txt\t\t  chunk_shuffled_all.txt  sent_shuffled_all.txt\r\n"
     ]
    }
   ],
   "source": [
    "!ls ../data/"
   ]
  }
 ],
 "metadata": {
  "kernelspec": {
   "display_name": "Python 3",
   "language": "python",
   "name": "python3"
  },
  "language_info": {
   "codemirror_mode": {
    "name": "ipython",
    "version": 3
   },
   "file_extension": ".py",
   "mimetype": "text/x-python",
   "name": "python",
   "nbconvert_exporter": "python",
   "pygments_lexer": "ipython3",
   "version": "3.6.4"
  }
 },
 "nbformat": 4,
 "nbformat_minor": 2
}
